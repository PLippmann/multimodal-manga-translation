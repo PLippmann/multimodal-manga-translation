{
 "cells": [
  {
   "cell_type": "code",
   "execution_count": 1,
   "metadata": {},
   "outputs": [
    {
     "name": "stderr",
     "output_type": "stream",
     "text": [
      "/home/kskublicki/.local/lib/python3.8/site-packages/tqdm/auto.py:21: TqdmWarning: IProgress not found. Please update jupyter and ipywidgets. See https://ipywidgets.readthedocs.io/en/stable/user_install.html\n",
      "  from .autonotebook import tqdm as notebook_tqdm\n"
     ]
    }
   ],
   "source": [
    "import sys\n",
    "\n",
    "from fastai.vision import *\n",
    "\n",
    "from PIL import Image, ImageDraw, ImageFont\n",
    "\n",
    "import IPython.display as display"
   ]
  },
  {
   "cell_type": "code",
   "execution_count": 2,
   "metadata": {},
   "outputs": [],
   "source": [
    "# LOAD ANNOTATIONS\n",
    "\n",
    "f = open('../LoveHina_vol01_fixed_order_page_split.json')\n",
    "\n",
    "annotation_data = json.load(f)"
   ]
  },
  {
   "cell_type": "code",
   "execution_count": 3,
   "metadata": {},
   "outputs": [],
   "source": [
    "book_titles = {\n",
    "    \"tojime_no_siora\": 0,\n",
    "    \"balloon_dream\": 1, \n",
    "    \"tencho_isoro\": 2, \n",
    "    \"boureisougi\": 3, \n",
    "    \"rasetugari\": 4, \n",
    "\n",
    "}\n",
    "\n",
    "results = []\n",
    "\n",
    "\n",
    "# for manga_index, manga in enumerate(annotation_data):\n",
    "for page_index, page in enumerate(annotation_data):\n",
    "    image_path = \"../\" + page['path'] \n",
    "    img_pil = Image.open(image_path)\n",
    "    text_boxes = [(int(text_box['attrib']['xmin']), int(text_box['attrib']['ymin']), int(text_box['attrib']['xmax']) - int(text_box['attrib']['xmin']), int(text_box['attrib']['ymax'])-int(text_box['attrib']['ymin'])) for text_box in page['lines']]\n",
    "    d = ImageDraw.Draw(img_pil)\n",
    "    for no, box in enumerate(text_boxes):\n",
    "        (x1, y1, w, h) = box\n",
    "        no += 1\n",
    "        # cropped_img = img_pil.crop((x1, y1, x2, y2))\n",
    "        \n",
    "        rect = Image.new(\"RGBA\", (w,h), (255, 255, 255, 0))\n",
    "        img_pil.paste(rect, (x1, y1))\n",
    "        font_size = h/2\n",
    "        font = ImageFont.truetype(\"./data/Arial.ttf\", font_size)\n",
    "        text_pos = (x1 + (w / 4 if no < 10 else 0), y1 + h/2 - font_size/2)\n",
    "        d.text( text_pos, f\"{no}\", fill=255, font=font)\n",
    "        \n",
    "    save_path = '../images_numbered/' + page['path']\n",
    "    img_pil.save(save_path)\n",
    "\n",
    "            \n",
    "\n",
    "    "
   ]
  }
 ],
 "metadata": {
  "kernelspec": {
   "display_name": "Python 3",
   "language": "python",
   "name": "python3"
  },
  "language_info": {
   "codemirror_mode": {
    "name": "ipython",
    "version": 3
   },
   "file_extension": ".py",
   "mimetype": "text/x-python",
   "name": "python",
   "nbconvert_exporter": "python",
   "pygments_lexer": "ipython3",
   "version": "3.8.10"
  }
 },
 "nbformat": 4,
 "nbformat_minor": 2
}
