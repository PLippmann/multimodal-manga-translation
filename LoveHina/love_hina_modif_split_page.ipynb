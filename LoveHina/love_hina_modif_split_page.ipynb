{
 "cells": [
  {
   "cell_type": "code",
   "execution_count": 1,
   "metadata": {},
   "outputs": [],
   "source": [
    "import sys\n",
    "from PIL import Image as Img\n",
    "import json\n",
    "from transformers import AutoModel\n",
    "import numpy as np\n",
    "import torch\n",
    "from pathlib import Path"
   ]
  },
  {
   "cell_type": "code",
   "execution_count": 2,
   "metadata": {},
   "outputs": [],
   "source": [
    "file_path = 'LoveHina_vol01_fixed_order'"
   ]
  },
  {
   "cell_type": "code",
   "execution_count": 3,
   "metadata": {},
   "outputs": [],
   "source": [
    "page_folder_path = 'LoveHina_vol01'"
   ]
  },
  {
   "cell_type": "code",
   "execution_count": 4,
   "metadata": {},
   "outputs": [],
   "source": [
    "f = open(f'{file_path}.json')\n",
    "\n",
    "annotation_data = json.load(f)"
   ]
  },
  {
   "cell_type": "code",
   "execution_count": 5,
   "metadata": {},
   "outputs": [],
   "source": [
    "page_split_data = []"
   ]
  },
  {
   "cell_type": "code",
   "execution_count": 6,
   "metadata": {},
   "outputs": [],
   "source": [
    "def sort_lines(lines):\n",
    "    sorted_lines = sorted(lines, key=lambda x:x['read_order'])\n",
    "    return sorted_lines\n"
   ]
  },
  {
   "cell_type": "code",
   "execution_count": 7,
   "metadata": {},
   "outputs": [],
   "source": [
    "def get_index_str(index:int):\n",
    "    return ('0' if index < 100 else '') + ('0' if index < 10 else '') + str(index)"
   ]
  },
  {
   "cell_type": "code",
   "execution_count": 8,
   "metadata": {},
   "outputs": [],
   "source": [
    "def handle_page_splitting(index, data_path, width, height):\n",
    "    index_str = get_index_str(index)\n",
    "\n",
    "    img_path = data_path + '/' + index_str + '.jpg'\n",
    "\n",
    "    pil_img = Img.open(img_path)\n",
    "\n",
    "    left_page = pil_img.crop((0, 0, width/2, height))\n",
    "\n",
    "    right_page = pil_img.crop((width/2, 0, width, height))\n",
    "\n",
    "    save_data_path = data_path + '_page_split'\n",
    "\n",
    "    Path(save_data_path).mkdir(parents=True, exist_ok=True)\n",
    "\n",
    "    right_page_save_path = save_data_path+'/'+get_index_str(2*index)+'.jpg'\n",
    "    left_page_save_path = save_data_path+'/'+get_index_str(2*index+1)+'.jpg'\n",
    "\n",
    "    right_page.save(right_page_save_path)\n",
    "    left_page.save(left_page_save_path)\n",
    "\n",
    "    return get_index_str(2*index)+'.jpg', get_index_str(2*index+1)+'.jpg'\n",
    "\n"
   ]
  },
  {
   "cell_type": "code",
   "execution_count": 9,
   "metadata": {},
   "outputs": [],
   "source": [
    "for i, page in enumerate(annotation_data):\n",
    "    width = int(page['attrib']['width'])\n",
    "    height = int(page['attrib']['height'])\n",
    "\n",
    "    right_page_save_path, left_page_save_path = handle_page_splitting(i, page_folder_path, width, height)\n",
    "\n",
    "    frames_left = []\n",
    "    frames_right = []\n",
    "\n",
    "    lines_left = []\n",
    "    lines_right = []\n",
    "\n",
    "    for frame in page['frames']:\n",
    "        if int(frame['xmin']) < width/2:\n",
    "            frames_left.append(frame)\n",
    "        else:\n",
    "            frame['xmin'] = str(int(int(frame['xmin']) - width/2))\n",
    "            frame['xmax'] = str(int(int(frame['xmax']) - width/2))\n",
    "            frames_right.append(frame)\n",
    "\n",
    "    for line in page['lines']:\n",
    "        if int(line['attrib']['xmin']) < width/2:\n",
    "            lines_left.append(line)\n",
    "        else:\n",
    "            line['attrib']['xmin'] = str(int(int(line['attrib']['xmin']) - width/2))\n",
    "            line['attrib']['xmax'] = str(int(int(line['attrib']['xmax']) - width/2))\n",
    "            lines_right.append(line)\n",
    "\n",
    "    page_dict_left = {}\n",
    "\n",
    "    page_dict_right = {}\n",
    "\n",
    "    page_dict_right['index'] = i * 2 \n",
    "\n",
    "    page_dict_right['frames'] = frames_right\n",
    "\n",
    "    page_dict_right['lines'] = sort_lines(lines_right)\n",
    "    \n",
    "    page_dict_right['path'] = right_page_save_path\n",
    "\n",
    "    page_split_data.append(page_dict_right)\n",
    "\n",
    "    page_dict_left['index'] = i * 2 + 1\n",
    "\n",
    "    page_dict_left['frames'] = frames_left \n",
    "\n",
    "    page_dict_left['lines'] = sort_lines(lines_left)\n",
    "\n",
    "    page_dict_left['path'] = left_page_save_path\n",
    "\n",
    "    page_split_data.append(page_dict_left)\n",
    "\n",
    "    \n",
    "\n",
    "    \n",
    "\n",
    "    "
   ]
  },
  {
   "cell_type": "code",
   "execution_count": 10,
   "metadata": {},
   "outputs": [],
   "source": [
    "with open(f'{file_path}_page_split.json', 'w', encoding='utf-8') as f:\n",
    "    json.dump(page_split_data, f, ensure_ascii=False, indent=2)"
   ]
  }
 ],
 "metadata": {
  "kernelspec": {
   "display_name": "Python 3",
   "language": "python",
   "name": "python3"
  },
  "language_info": {
   "codemirror_mode": {
    "name": "ipython",
    "version": 3
   },
   "file_extension": ".py",
   "mimetype": "text/x-python",
   "name": "python",
   "nbconvert_exporter": "python",
   "pygments_lexer": "ipython3",
   "version": "3.9.undefined"
  }
 },
 "nbformat": 4,
 "nbformat_minor": 2
}
