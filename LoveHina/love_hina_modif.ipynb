{
 "cells": [
  {
   "cell_type": "code",
   "execution_count": 1,
   "metadata": {},
   "outputs": [],
   "source": [
    "import sys\n",
    "from PIL import Image as Img\n",
    "import json\n",
    "from transformers import AutoModel\n",
    "import numpy as np\n",
    "import torch"
   ]
  },
  {
   "cell_type": "code",
   "execution_count": 2,
   "metadata": {},
   "outputs": [],
   "source": [
    "file_path = 'LoveHina_vol14'"
   ]
  },
  {
   "cell_type": "code",
   "execution_count": 3,
   "metadata": {},
   "outputs": [],
   "source": [
    "f = open(f'{file_path}.json')\n",
    "\n",
    "annotation_data = json.load(f)"
   ]
  },
  {
   "cell_type": "code",
   "execution_count": 4,
   "metadata": {},
   "outputs": [
    {
     "name": "stderr",
     "output_type": "stream",
     "text": [
      "2024-04-24 12:34:22.801323: I tensorflow/tsl/cuda/cudart_stub.cc:28] Could not find cuda drivers on your machine, GPU will not be used.\n",
      "2024-04-24 12:34:27.205802: I tensorflow/tsl/cuda/cudart_stub.cc:28] Could not find cuda drivers on your machine, GPU will not be used.\n",
      "2024-04-24 12:34:27.228853: I tensorflow/core/platform/cpu_feature_guard.cc:182] This TensorFlow binary is optimized to use available CPU instructions in performance-critical operations.\n",
      "To enable the following instructions: AVX2 FMA, in other operations, rebuild TensorFlow with the appropriate compiler flags.\n",
      "2024-04-24 12:34:40.251912: W tensorflow/compiler/tf2tensorrt/utils/py_utils.cc:38] TF-TRT Warning: Could not find TensorRT\n",
      "Could not find image processor class in the image processor config or the model config. Loading based on pattern matching with the model's feature extractor configuration.\n"
     ]
    }
   ],
   "source": [
    "magi = AutoModel.from_pretrained(\"ragavsachdeva/magi\", trust_remote_code=True).cuda()\n"
   ]
  },
  {
   "cell_type": "code",
   "execution_count": 5,
   "metadata": {},
   "outputs": [],
   "source": [
    "def sort_text_boxes(frames, lines):\n",
    "    panel_boxes = [(int(panel['xmin']), int(panel['ymin']), int(panel['xmax']), int(panel['ymax'])) for panel in frames]\n",
    "    text_boxes = [(int(line['attrib']['xmin']), int(line['attrib']['ymin']), int(line['attrib']['xmax']), int(line['attrib']['ymax'])) for line in lines]\n",
    "\n",
    "    sorted_text_indices = magi.sort_panels_and_text_bboxes_in_reading_order([panel_boxes], [text_boxes])[1][0]\n",
    "    lines_sorted = [lines[i] for i in sorted_text_indices]\n",
    "\n",
    "    return lines_sorted\n"
   ]
  },
  {
   "cell_type": "code",
   "execution_count": 6,
   "metadata": {},
   "outputs": [],
   "source": [
    "for i, page in enumerate(annotation_data):\n",
    "    width = int(page['attrib']['width'])\n",
    "\n",
    "    frames_left = []\n",
    "    frames_right = []\n",
    "\n",
    "    lines_left = []\n",
    "    lines_right = []\n",
    "\n",
    "    for frame in page['frames']:\n",
    "        if int(frame['xmin']) < width/2:\n",
    "            frames_left.append(frame)\n",
    "        else:\n",
    "            frames_right.append(frame)\n",
    "\n",
    "    for line in page['lines']:\n",
    "        if int(line['attrib']['xmin']) < width/2:\n",
    "            lines_left.append(line)\n",
    "        else:\n",
    "            lines_right.append(line)\n",
    "\n",
    "    lines_left = sort_text_boxes(frames_left, lines_left)\n",
    "\n",
    "    lines_right = sort_text_boxes(frames_right, lines_right)\n",
    "\n",
    "    annotation_data[i]['lines'] = lines_right + lines_left\n",
    "\n",
    "\n",
    "    "
   ]
  },
  {
   "cell_type": "code",
   "execution_count": 7,
   "metadata": {},
   "outputs": [],
   "source": [
    "with open(f'{file_path}_fixed_order.json', 'w', encoding='utf-8') as f:\n",
    "    json.dump(annotation_data, f, ensure_ascii=False, indent=2)"
   ]
  }
 ],
 "metadata": {
  "kernelspec": {
   "display_name": "Python 3",
   "language": "python",
   "name": "python3"
  },
  "language_info": {
   "codemirror_mode": {
    "name": "ipython",
    "version": 3
   },
   "file_extension": ".py",
   "mimetype": "text/x-python",
   "name": "python",
   "nbconvert_exporter": "python",
   "pygments_lexer": "ipython3",
   "version": "3.9.undefined"
  }
 },
 "nbformat": 4,
 "nbformat_minor": 2
}
