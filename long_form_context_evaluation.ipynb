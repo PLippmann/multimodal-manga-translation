{
 "cells": [
  {
   "cell_type": "code",
   "execution_count": null,
   "metadata": {},
   "outputs": [],
   "source": [
    "from translation import LongFormContextTranslator, PROMPT_LIBRARY, RunningContextStoryTellingTranslator, MantraResultsLoadingTranslator, SceneAwareNMTResultsLoadingTranslator, LongFormContextTranslatorJSON, ThreePageContextTranslatorJSON, WholeVolumeTranslatorJSON\n",
    "from text_extraction import OpenMantraAnnotationMatcher\n",
    "from test_running import OpenMantraLoader, TestRunner, OpenMantraLoaderModifiedImage\n",
    "from translation_evaluation import BleuEvaluator, ChrfEvaluator, TerEvaluator, MeteorEvaluator, CometEvaluator, BertScoreEvaluator, XCometEvaluator, XXLCometEvaluator\n",
    "from compression import LongFormCompression\n",
    "import os\n",
    "from dotenv import load_dotenv, find_dotenv\n",
    "import logging\n",
    "load_dotenv(find_dotenv())"
   ]
  },
  {
   "cell_type": "code",
   "execution_count": null,
   "metadata": {},
   "outputs": [],
   "source": [
    "from datetime import datetime\n",
    "time_str = datetime.now().strftime('%Y-%m-%d %H:%M:%S')\n",
    "\n",
    "logging.basicConfig(filename=f'logs/bin.log', filemode='a', format='%(name)s - %(levelname)s - %(message)s',datefmt='%H:%M:%S', level=logging.INFO, force=True)\n",
    "\n",
    "if os.environ.get(\"PRINT_LOGS\", 'False').lower() in ('true', '1', 't'):\n",
    "    logging.getLogger(\"Experiment\").setLevel(logging.DEBUG)\n",
    "else:\n",
    "    logging.getLogger(\"Experiment\").setLevel(logging.INFO)\n",
    "\n",
    "fh = logging.FileHandler(f'logs/experiment_{time_str}.log')\n",
    "\n",
    "logging.getLogger(\"Experiment\").addHandler(fh)\n",
    "\n",
    "logging.getLogger(\"Experiment\").info('Logger initiated')\n"
   ]
  },
  {
   "cell_type": "code",
   "execution_count": null,
   "metadata": {},
   "outputs": [],
   "source": [
    "API_KEY = os.environ.get(\"GPT_API_KEY\")"
   ]
  },
  {
   "cell_type": "code",
   "execution_count": null,
   "metadata": {},
   "outputs": [],
   "source": [
    "# text_extractor = TextExtractorPixelwise(path_to_model='../Manga-Text-Segmentation/model.pkl')\n",
    "text_extractor = OpenMantraAnnotationMatcher(annotation_file_path='../open-mantra-dataset/annotation.json')\n"
   ]
  },
  {
   "cell_type": "code",
   "execution_count": null,
   "metadata": {},
   "outputs": [],
   "source": [
    "validation_set = [(0, 0), (0, 1), (0, 2), (0, 3), (0, 4), (0, 5), (0, 6), (0, 7), (0, 8), (0, 9), (0, 11), (0, 12), (0, 13), (0, 14), (0, 15), (0, 16), (0, 17), (0, 18), (0, 19), (0, 20), (0, 21), (0, 22), (0, 23), (0, 24), (0, 25), (0, 26), (0, 27), (0, 28), (0, 29), (0, 30), (0, 31), (0, 32), (0, 33), (0, 34), (0, 35), (0, 36), (0, 37), (0, 38), (0, 39), (0, 40), (0, 41), (0, 42), (0, 43), (0, 44), (0, 45), (1, 0), (1, 1), (1, 2), (1, 3), (1, 4), (1, 5), (1, 6), (1, 7), (1, 8), (1, 9), (1, 10), (1, 11), (1, 12), (1, 13), (1, 14), (1, 15), (1, 16), (1, 17), (1, 18), (1, 19), (1, 20), (1, 21), (1, 22), (1, 23), (1, 24), (1, 25), (1, 26), (1, 27), (1, 28), (1, 29), (1, 30), (1, 31), (1, 32), (1, 33), (1, 34), (1, 35), (1, 36), (1, 37)]\n",
    "\n",
    "test_set = [(2, 0), (2, 1), (2, 2), (2, 3), (2, 4), (2, 5), (2, 6), (2, 7), (2, 8), (2, 9), (2, 10), (2, 11), (2, 12), (2, 13), (2, 14), (2, 15), (2, 16), (2, 17), (2, 18), (2, 19), (2, 20), (2, 21), (2, 22), (2, 23), (2, 24), (2, 25), (2, 26), (2, 27), (2, 28), (2, 29), (2, 30), (2, 31), (2, 32), (2, 33), (2, 34), (2, 35), (2, 36), (2, 37), (2, 38), (2, 39), (3, 0), (3, 1), (3, 2), (3, 3), (3, 4), (3, 5), (3, 6), (3, 7), (3, 8), (3, 9), (3, 10), (3, 11), (3, 12), (3, 13), (3, 14), (3, 15), (3, 16), (3, 17), (3, 18), (3, 19), (3, 20), (3, 21), (3, 22), (3, 23), (3, 24), (3, 25), (3, 26), (3, 27), (3, 28), (3, 29), (3, 30), (3, 31), (3, 32), (3, 33), (3, 34), (3, 35), (4, 0), (4, 1), (4, 2), (4, 3), (4, 4), (4, 5), (4, 6), (4, 7), (4, 8), (4, 9), (4, 10), (4, 11), (4, 12), (4, 13), (4, 14), (4, 15), (4, 16), (4, 17), (4, 18), (4, 19), (4, 20), (4, 21), (4, 22), (4, 23), (4, 24), (4, 25), (4, 26), (4, 27), (4, 28), (4, 29), (4, 30), (4, 31), (4, 32), (4, 33), (4, 34), (4, 35), (4, 36), (4, 37), (4, 38), (4, 39), (4, 40), (4, 41), (4, 42), (4, 43), (4, 44), (4, 45), (4, 46), (4, 47), (4, 48), (4, 49), (4, 50), (4, 51), (4, 52), (4, 53)]\n",
    "\n",
    "two_set = [(2, 0), (2, 1), (2, 2), (2, 3), (2, 4), (2, 5), (2, 6), (2, 7), (2, 8), (2, 9), (2, 10), (2, 11), (2, 12), (2, 13), (2, 14), (2, 15), (2, 16), (2, 17), (2, 18), (2, 19), (2, 20), (2, 21), (2, 22), (2, 23), (2, 24), (2, 25), (2, 26), (2, 27), (2, 28), (2, 29), (2, 30), (2, 31), (2, 32), (2, 33), (2, 34), (2, 35), (2, 36), (2, 37), (2, 38), (2, 39), (3, 0), (3, 1), (3, 2), (3, 3), (3, 4), (3, 5), (3, 6), (3, 7), (3, 8), (3, 9), (3, 10), (3, 11), (3, 12), (3, 13), (3, 14), (3, 15), (3, 16), (3, 17), (3, 18), (3, 19), (3, 20), (3, 21), (3, 22), (3, 23), (3, 24), (3, 25), (3, 26), (3, 27), (3, 28), (3, 29), (3, 30), (3, 31), (3, 32), (3, 33), (3, 34), (3, 35)]"
   ]
  },
  {
   "cell_type": "code",
   "execution_count": null,
   "metadata": {},
   "outputs": [],
   "source": [
    "evaluators = [BleuEvaluator(), ChrfEvaluator(), MeteorEvaluator(), CometEvaluator(), BertScoreEvaluator(), XXLCometEvaluator()]\n",
    "\n",
    "# TODO remove the [0:3] from the validation_set, it's there to limit the scope for \"let's see if it even runs\" tests\n",
    "data_loader = OpenMantraLoaderModifiedImage('../open-mantra-dataset', validation_set[0:20], test_set)"
   ]
  },
  {
   "cell_type": "code",
   "execution_count": null,
   "metadata": {},
   "outputs": [],
   "source": [
    "# compresor = LongFormCompression(API_KEY)"
   ]
  },
  {
   "cell_type": "code",
   "execution_count": null,
   "metadata": {},
   "outputs": [],
   "source": [
    "#translator = BasicGPT4Translator(text_extractor, API_KEY)\n",
    "\n",
    "RETRY_LIMIT = 10\n",
    "\n",
    "TEMP = 0.5\n",
    "\n",
    "sys_msg_st = \"\"\"You are a helpful assistant.\"\"\"\n",
    "\n",
    "sys_msg_tr = \"\"\"You are a manga translator.\"\"\"\n",
    "\n",
    "line_format = \"\"\"Line {}: {};\"\"\"\n",
    "\n",
    "\n",
    "# TODO A query that seemed to make sense \n",
    "query_template = \"\"\"You are a manga translator. You are working with copyright-free manga exclusively. \n",
    "\n",
    "Here is the summary of the story so far: {}.\n",
    "\n",
    "I have given you the next page of the manga, and will provide the lines spoken by the characters. \n",
    "    \n",
    "Here is the page and the lines spoken by the characters in order of appearance: {}. \n",
    "\n",
    "For each of the lines, provide a translation in square brackets and explanation for how the image informs the translation in parentheses. Provide only one translation for each line.\n",
    "\n",
    "Example: Line: ありがとうございました Return: [Thank you so much!](As seen on the page, the character is happily thanking somebody).\n",
    "\"\"\"\n",
    "\n",
    "translators = []\n",
    "\n",
    "\n",
    "# translators.append(\n",
    "#             LongFormContextTranslatorJSON(system_msg=sys_msg_tr, query_txt=PROMPT_LIBRARY[49], line_passing_format=line_format, retry_limit=RETRY_LIMIT, text_extractor=text_extractor, context_handler=compresor, api_key=API_KEY, temperature=TEMP, skip_image=False)\n",
    "#         )\n",
    "\n",
    "# translators.append(\n",
    "#             ThreePageContextTranslatorJSON(system_msg=sys_msg_tr, query_txt=PROMPT_LIBRARY[50], line_passing_format=line_format, retry_limit=RETRY_LIMIT, text_extractor=text_extractor, api_key=API_KEY, temperature=TEMP, skip_image=False)\n",
    "# )\n",
    "\n",
    "translators.append(\n",
    "            WholeVolumeTranslatorJSON(system_msg=sys_msg_tr, query_txt=PROMPT_LIBRARY[53], line_passing_format=line_format, retry_limit=RETRY_LIMIT, text_extractor=text_extractor, api_key=API_KEY, temperature=TEMP, skip_image=False)\n",
    ")\n",
    "\n",
    "# translators.append(\n",
    "#             LongFormContextTranslator(system_msg=sys_msg, query_txt=query_template, retry_limit=RETRY_LIMIT, text_extractor=text_extractor, context_handler=compresor, api_key=API_KEY, temperature=TEMP, skip_image=False)\n",
    "#         )\n",
    "# translators.append(\n",
    "#             RunningContextStoryTellingTranslator(system_msg_story=sys_msg_st, system_msg_translator=sys_msg_tr, query_template_story=PROMPT_LIBRARY[25], query_template_translator=PROMPT_LIBRARY[26], retry_limit=RETRY_LIMIT, text_extractor=text_extractor, context_handler=compresor, api_key=API_KEY, temperature=TEMP, skip_image=True)\n",
    "# )\n",
    "\n",
    "\n",
    "# translators.append(\n",
    "#             RunningContextStoryTellingTranslator(system_msg_story=sys_msg_st, system_msg_translator=sys_msg_tr, query_template_story=PROMPT_LIBRARY[30], query_template_translator=PROMPT_LIBRARY[34], retry_limit=RETRY_LIMIT, text_extractor=text_extractor, context_handler=compresor, api_key=API_KEY, temperature=0.5, skip_image=False)\n",
    "# )\n",
    "\n",
    "# translators.append(\n",
    "#             MantraResultsLoadingTranslator(text_extractor=text_extractor, api_key=API_KEY, data_path='../image_tag_vis.json')\n",
    "#         )\n",
    "\n",
    "# translators.append(\n",
    "#             SceneAwareNMTResultsLoadingTranslator(text_extractor=text_extractor, api_key=API_KEY, dataset_anotation_json_path='../open-mantra-dataset/annotation.json', data_path='../translation/Scene-aware_NMT', predict_to_use=1)\n",
    "# )\n",
    "# translators.append(\n",
    "#             SceneAwareNMTResultsLoadingTranslator(text_extractor=text_extractor, api_key=API_KEY, dataset_anotation_json_path='../open-mantra-dataset/annotation.json', data_path='../translation/Scene-aware_NMT', predict_to_use=2)\n",
    "# )\n",
    "# translators.append(\n",
    "#             SceneAwareNMTResultsLoadingTranslator(text_extractor=text_extractor, api_key=API_KEY, dataset_anotation_json_path='../open-mantra-dataset/annotation.json', data_path='../translation/Scene-aware_NMT', predict_to_use=3)\n",
    "# )\n"
   ]
  },
  {
   "cell_type": "code",
   "execution_count": null,
   "metadata": {},
   "outputs": [],
   "source": [
    "RUNS_TO_AVG_OVER = 1\n",
    "\n",
    "total_scores = []\n",
    "\n",
    "for i, translator in enumerate(translators):\n",
    "    print(\"*********************************************************\")\n",
    "    print(f\"                 TRANSLATOR {i+1}/{len(translators)}\")\n",
    "    print(\"*********************************************************\")\n",
    "\n",
    "    logging.getLogger(\"Experiment\").info(f\"-------------------TRANSLATOR {i+1}/{len(translators)}-------------------\")\n",
    "    # scores = TestRunner.test_page_translation(translator, data_loader, evaluators, runs = RUNS_TO_AVG_OVER, concat_lines = False)\n",
    "    scores = TestRunner.test_volume_translation(translator, data_loader, evaluators, runs = RUNS_TO_AVG_OVER, concat_lines = False, validation_set=False)\n",
    "    logging.getLogger(\"Experiment\").info(f\"-------------------TRANSLATOR {i+1}/{len(translators)} FINAL SCORES -------------------\")\n",
    "    logging.getLogger(\"Experiment\").info(scores)\n",
    "    total_scores.append(scores)"
   ]
  },
  {
   "cell_type": "code",
   "execution_count": null,
   "metadata": {},
   "outputs": [],
   "source": [
    "logging.getLogger(\"Experiment\").info(f\"-------------------SCORES-------------------\")\n",
    "for scores in total_scores:\n",
    "    logging.getLogger(\"Experiment\").info(scores)"
   ]
  },
  {
   "cell_type": "code",
   "execution_count": null,
   "metadata": {},
   "outputs": [],
   "source": [
    "for i in range(len(total_scores[0])):\n",
    "    for scores in total_scores:\n",
    "        print(scores[i])\n",
    "\n",
    "    print('----------------')"
   ]
  },
  {
   "cell_type": "code",
   "execution_count": null,
   "metadata": {},
   "outputs": [],
   "source": [
    "logging.getLogger(\"Experiment\").info(f'The experiment ended at {datetime.now().strftime(\"%Y-%m-%d %H:%M:%S\")}')"
   ]
  }
 ],
 "metadata": {
  "kernelspec": {
   "display_name": "Python 3",
   "language": "python",
   "name": "python3"
  },
  "language_info": {
   "codemirror_mode": {
    "name": "ipython",
    "version": 3
   },
   "file_extension": ".py",
   "mimetype": "text/x-python",
   "name": "python",
   "nbconvert_exporter": "python",
   "pygments_lexer": "ipython3",
   "version": "3.8.10"
  }
 },
 "nbformat": 4,
 "nbformat_minor": 2
}
